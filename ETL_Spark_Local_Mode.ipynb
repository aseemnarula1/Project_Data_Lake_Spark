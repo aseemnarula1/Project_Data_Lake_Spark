{
 "cells": [
  {
   "cell_type": "markdown",
   "metadata": {},
   "source": [
    "#### Importing the Python Libraries"
   ]
  },
  {
   "cell_type": "code",
   "execution_count": 1,
   "metadata": {},
   "outputs": [],
   "source": [
    "import configparser\n",
    "import os\n",
    "import glob\n",
    "import zipfile\n",
    "import pyspark.sql.functions as F\n",
    "from pyspark.sql.functions import udf, col, to_timestamp\n",
    "from pyspark.sql.functions import year, month, dayofmonth, hour, weekofyear,dayofweek\n",
    "from pyspark.sql.types import *\n",
    "\n",
    "from datetime import datetime\n",
    "from pyspark.sql import SparkSession\n",
    "from pyspark.sql.window import Window"
   ]
  },
  {
   "cell_type": "markdown",
   "metadata": {},
   "source": [
    "#### Defining the function for creating Spark Session"
   ]
  },
  {
   "cell_type": "code",
   "execution_count": 2,
   "metadata": {},
   "outputs": [],
   "source": [
    "def create_spark_session():\n",
    "    spark = SparkSession \\\n",
    "        .builder \\\n",
    "        .config(\"spark.jars.packages\", \"org.apache.hadoop:hadoop-aws:2.7.0\") \\\n",
    "        .getOrCreate()\n",
    "    return spark\n",
    "\n",
    "spark = create_spark_session()"
   ]
  },
  {
   "cell_type": "markdown",
   "metadata": {},
   "source": [
    "#### Printing the current working directory so that data files can be extracted there"
   ]
  },
  {
   "cell_type": "code",
   "execution_count": 3,
   "metadata": {},
   "outputs": [
    {
     "name": "stdout",
     "output_type": "stream",
     "text": [
      "Current working directory: /workspace/home\n"
     ]
    }
   ],
   "source": [
    "cwd = os.getcwd()\n",
    "print(\"Current working directory:\", cwd)"
   ]
  },
  {
   "cell_type": "markdown",
   "metadata": {},
   "source": [
    "#### Defining the variables for the log data and song data zip file"
   ]
  },
  {
   "cell_type": "code",
   "execution_count": 4,
   "metadata": {},
   "outputs": [
    {
     "name": "stdout",
     "output_type": "stream",
     "text": [
      "Log Data------> ['/workspace/home/data/log-data.zip']\n",
      "Song Data-----> ['/workspace/home/data/song-data.zip']\n"
     ]
    }
   ],
   "source": [
    "# Defining the variables files1 and files2 for log data and song data respectively\n",
    "files1 = glob.glob('/workspace/home/data/log-data.zip')\n",
    "files2 = glob.glob('/workspace/home/data/song-data.zip')\n",
    "\n",
    "#Printing full directory path for log data\n",
    "print(\"Log Data------>\",files1)\n",
    "\n",
    "#Printing full directory path for song data\n",
    "print(\"Song Data----->\",files2)"
   ]
  },
  {
   "cell_type": "markdown",
   "metadata": {},
   "source": [
    "#### Extracting the Log Data Zip file"
   ]
  },
  {
   "cell_type": "code",
   "execution_count": 5,
   "metadata": {},
   "outputs": [
    {
     "name": "stdout",
     "output_type": "stream",
     "text": [
      "Unzipping Log Data Zip file: /workspace/home/data/log-data.zip\n"
     ]
    }
   ],
   "source": [
    "# Extracting the Log Data Zip file\n",
    "for file in files1:\n",
    "    print('Unzipping Log Data Zip file:',file)\n",
    "\n",
    "    with zipfile.ZipFile(file, 'r') as zip_ref:\n",
    "        zip_ref.extractall('/workspace/home/data/extracted_data_folder/log-data/')"
   ]
  },
  {
   "cell_type": "markdown",
   "metadata": {},
   "source": [
    "#### Extracting the Song Data Zip file"
   ]
  },
  {
   "cell_type": "code",
   "execution_count": 6,
   "metadata": {},
   "outputs": [
    {
     "name": "stdout",
     "output_type": "stream",
     "text": [
      "Unzipping Song Data Zip file: /workspace/home/data/song-data.zip\n"
     ]
    }
   ],
   "source": [
    "for file in files2:\n",
    "    print('Unzipping Song Data Zip file:',file)\n",
    "\n",
    "    with zipfile.ZipFile(file, 'r') as zip_ref:\n",
    "        zip_ref.extractall('/workspace/home/data/extracted_data_folder/song-data/')"
   ]
  },
  {
   "cell_type": "markdown",
   "metadata": {},
   "source": [
    "#### Defining the variables for the input & output data directory"
   ]
  },
  {
   "cell_type": "code",
   "execution_count": 7,
   "metadata": {},
   "outputs": [],
   "source": [
    "input_data = \"data/extracted_data_folder/\"\n",
    "output_data = \"output/\""
   ]
  },
  {
   "cell_type": "markdown",
   "metadata": {},
   "source": [
    "#### Setting the song data variable"
   ]
  },
  {
   "cell_type": "code",
   "execution_count": 8,
   "metadata": {},
   "outputs": [],
   "source": [
    "# With only partial dataset as suggested in the Knowledge support ticket\n",
    "song_data = input_data + \"/song-data/song_data/A/A/*/\""
   ]
  },
  {
   "cell_type": "markdown",
   "metadata": {},
   "source": [
    "#### Reading the JSON file into the Spark Data Frame"
   ]
  },
  {
   "cell_type": "code",
   "execution_count": 9,
   "metadata": {},
   "outputs": [
    {
     "name": "stdout",
     "output_type": "stream",
     "text": [
      "Total count of records in Song Data Frame-----> 36\n"
     ]
    }
   ],
   "source": [
    "# Reading the JSON file into the Data Frame\n",
    "song_data_df = spark.read.json(song_data)\n",
    "\n",
    "# Total count of records in Song Data Frame\n",
    "print(\"Total count of records in Song Data Frame----->\",song_data_df.count())"
   ]
  },
  {
   "cell_type": "markdown",
   "metadata": {},
   "source": [
    "#### Creating Songs Data Table with smallert set of the columns from above data frame"
   ]
  },
  {
   "cell_type": "code",
   "execution_count": 10,
   "metadata": {},
   "outputs": [],
   "source": [
    "\n",
    "songs_data_table = song_data_df.select([\"song_id\", \"title\", \"artist_id\", \"year\", \"duration\"]).distinct()\n"
   ]
  },
  {
   "cell_type": "markdown",
   "metadata": {},
   "source": [
    "#### Displaying the sample records from the Songs Data Table"
   ]
  },
  {
   "cell_type": "code",
   "execution_count": 11,
   "metadata": {},
   "outputs": [
    {
     "name": "stdout",
     "output_type": "stream",
     "text": [
      "+------------------+--------------------+------------------+----+---------+\n",
      "|           song_id|               title|         artist_id|year| duration|\n",
      "+------------------+--------------------+------------------+----+---------+\n",
      "|SOGOSOV12AF72A285E|   ¿Dónde va Chichi?|ARGUVEV1187B98BA17|1997|313.12934|\n",
      "|SOBBUGU12A8C13E95D|Setting Fire to S...|ARMAC4T1187FB3FA4C|2004|207.77751|\n",
      "|SOIAZJW12AB01853F1|          Pink World|AR8ZCNI1187B9A069B|1984|269.81832|\n",
      "|SONYPOM12A8C13B2D7|I Think My Wife I...|ARDNS031187B9924F0|2005|186.48771|\n",
      "|SOYMRWW12A6D4FAB14|The Moon And I (O...|ARKFYS91187B98E58F|   0| 267.7024|\n",
      "|SOWTBJW12AC468AC6E|Broken-Down Merry...|ARQGYP71187FB44566|   0|151.84934|\n",
      "|SOQHXMF12AB0182363|     Young Boy Blues|ARGSJW91187B9B1D6B|   0|218.77506|\n",
      "|SOZVMJI12AB01808AF|     Synthetic Dream|ARNPAGP1241B9C7FD4|   0|165.69424|\n",
      "|SOHKNRJ12A6701D1F8|        Drop of Rain|AR10USD1187B99F3F1|   0|189.57016|\n",
      "|SOMJBYD12A6D4F8557|Keepin It Real (S...|ARD0S291187B9B7BF5|   0|114.78159|\n",
      "|SOLLHMX12AB01846DC|   The Emperor Falls|AR1Y2PT1187FB5B9CE|   0|484.62322|\n",
      "|SOBZBAZ12A6D4F8742|      Spanish Grease|AROUOZZ1187B9ABE51|1997|168.25424|\n",
      "|SOHUOAP12A8AE488E9|            Floating|ARD842G1187B997376|1987|491.12771|\n",
      "|SOVYKGO12AB0187199|Crazy Mixed Up World|ARH4Z031187B9A71F2|1961|156.39465|\n",
      "|SOMZWCG12A8C13C480|    I Didn't Mean To|ARD7TVE1187B99BFB1|   0|218.93179|\n",
      "+------------------+--------------------+------------------+----+---------+\n",
      "only showing top 15 rows\n",
      "\n"
     ]
    }
   ],
   "source": [
    "songs_data_table.show(15, True)"
   ]
  },
  {
   "cell_type": "markdown",
   "metadata": {},
   "source": [
    "#### Creating the Spark Data Frame for the Log Data"
   ]
  },
  {
   "cell_type": "code",
   "execution_count": 12,
   "metadata": {},
   "outputs": [
    {
     "name": "stdout",
     "output_type": "stream",
     "text": [
      "+-----------+---------+---------+------+-------------+--------+---------+-----+--------------------+------+--------+-----------------+---------+---------------+------+-------------+--------------------+------+\n",
      "|     artist|     auth|firstName|gender|itemInSession|lastName|   length|level|            location|method|    page|     registration|sessionId|           song|status|           ts|           userAgent|userId|\n",
      "+-----------+---------+---------+------+-------------+--------+---------+-----+--------------------+------+--------+-----------------+---------+---------------+------+-------------+--------------------+------+\n",
      "|   Harmonia|Logged In|     Ryan|     M|            0|   Smith|655.77751| free|San Jose-Sunnyval...|   PUT|NextSong|1.541016707796E12|      583|  Sehr kosmisch|   200|1542241826796|\"Mozilla/5.0 (X11...|    26|\n",
      "|The Prodigy|Logged In|     Ryan|     M|            1|   Smith|260.07465| free|San Jose-Sunnyval...|   PUT|NextSong|1.541016707796E12|      583|The Big Gundown|   200|1542242481796|\"Mozilla/5.0 (X11...|    26|\n",
      "|      Train|Logged In|     Ryan|     M|            2|   Smith|205.45261| free|San Jose-Sunnyval...|   PUT|NextSong|1.541016707796E12|      583|       Marry Me|   200|1542242741796|\"Mozilla/5.0 (X11...|    26|\n",
      "|       null|Logged In|    Wyatt|     M|            0|   Scott|     null| free|Eureka-Arcata-For...|   GET|    Home|1.540872073796E12|      563|           null|   200|1542247071796|Mozilla/5.0 (Wind...|     9|\n",
      "|       null|Logged In|   Austin|     M|            0| Rosales|     null| free|New York-Newark-J...|   GET|    Home|1.541059521796E12|      521|           null|   200|1542252577796|Mozilla/5.0 (Wind...|    12|\n",
      "+-----------+---------+---------+------+-------------+--------+---------+-----+--------------------+------+--------+-----------------+---------+---------------+------+-------------+--------------------+------+\n",
      "only showing top 5 rows\n",
      "\n"
     ]
    }
   ],
   "source": [
    "log_data = input_data + \"/log-data/\"\n",
    "log_data_df = spark.read.json(log_data)\n",
    "log_data_df.show(5, True)"
   ]
  },
  {
   "cell_type": "markdown",
   "metadata": {},
   "source": [
    "#### Processing Song Data"
   ]
  },
  {
   "cell_type": "code",
   "execution_count": 13,
   "metadata": {},
   "outputs": [
    {
     "name": "stdout",
     "output_type": "stream",
     "text": [
      "+------------------+--------------------+-----------------+---------------+----------------+\n",
      "|         artist_id|         artist_name|  artist_location|artist_latitude|artist_longitude|\n",
      "+------------------+--------------------+-----------------+---------------+----------------+\n",
      "|AR0RCMP1187FB3F427|    Billie Jo Spears|     Beaumont, TX|       30.08615|       -94.10158|\n",
      "|ARI3BMM1187FB4255E|        Alice Stuart|       Washington|        38.8991|         -77.029|\n",
      "|ARMAC4T1187FB3FA4C|The Dillinger Esc...|Morris Plains, NJ|       40.82624|       -74.47995|\n",
      "|ARNTLGG11E2835DDB9|                 Clp|                 |           null|            null|\n",
      "|ARKRRTF1187B9984DA|    Sonora Santanera|                 |           null|            null|\n",
      "+------------------+--------------------+-----------------+---------------+----------------+\n",
      "only showing top 5 rows\n",
      "\n"
     ]
    }
   ],
   "source": [
    "# Getting filepath to song data file\n",
    "song_data = input_data + \"/song-data/song_data/A/A/*/\"\n",
    "\n",
    "# Reading song data file\n",
    "df = spark.read.json(song_data)\n",
    "\n",
    "# Extracting columns to create songs table with distinct\n",
    "songs_table = df.select([\"song_id\", \"title\", \"artist_id\", \"year\", \"duration\"]).distinct()\n",
    "\n",
    "# Writing songs table to parquet files partitioned by year and artist\n",
    "songs_table.write.parquet(os.path.join(output_data, 'songs/songs.parquet'), partitionBy=['year', 'artist_id'], mode='overwrite')\n",
    "\n",
    "# Extracting columns to create artists table\n",
    "artists_table =  artists_table = df['artist_id', 'artist_name', 'artist_location', 'artist_latitude', 'artist_longitude']\n",
    "\n",
    "# Dropping duplicates from the artists table\n",
    "artists_table = artists_table.drop_duplicates(subset=['artist_id'])\n",
    "\n",
    "# Writing artists table to parquet files\n",
    "artists_table.write.parquet(os.path.join(output_data, 'artists/artists.parquet'), mode='overwrite')\n",
    "\n",
    "#Displating 5 Rows from Artists Table\n",
    "artists_table.show(5, True)"
   ]
  },
  {
   "cell_type": "markdown",
   "metadata": {},
   "source": [
    "#### Processing Log Data"
   ]
  },
  {
   "cell_type": "code",
   "execution_count": 14,
   "metadata": {},
   "outputs": [
    {
     "name": "stdout",
     "output_type": "stream",
     "text": [
      "printing the users table\n",
      "+------+---------+--------+------+-----+\n",
      "|userId|firstName|lastName|gender|level|\n",
      "+------+---------+--------+------+-----+\n",
      "|    51|     Maia|   Burke|     F| free|\n",
      "|     7|   Adelyn|  Jordan|     F| free|\n",
      "|    15|     Lily|    Koch|     F| paid|\n",
      "|    54|    Kaleb|    Cook|     M| free|\n",
      "|   101|   Jayden|     Fox|     M| free|\n",
      "+------+---------+--------+------+-----+\n",
      "only showing top 5 rows\n",
      "\n",
      "get_timestamp <function <lambda> at 0x7ff3388db8c8>\n",
      "root\n",
      " |-- artist: string (nullable = true)\n",
      " |-- auth: string (nullable = true)\n",
      " |-- firstName: string (nullable = true)\n",
      " |-- gender: string (nullable = true)\n",
      " |-- itemInSession: long (nullable = true)\n",
      " |-- lastName: string (nullable = true)\n",
      " |-- length: double (nullable = true)\n",
      " |-- level: string (nullable = true)\n",
      " |-- location: string (nullable = true)\n",
      " |-- method: string (nullable = true)\n",
      " |-- page: string (nullable = true)\n",
      " |-- registration: double (nullable = true)\n",
      " |-- sessionId: long (nullable = true)\n",
      " |-- song: string (nullable = true)\n",
      " |-- status: long (nullable = true)\n",
      " |-- ts: long (nullable = true)\n",
      " |-- userAgent: string (nullable = true)\n",
      " |-- userId: string (nullable = true)\n",
      "\n"
     ]
    }
   ],
   "source": [
    "# Getting filepath to log data file\n",
    "log_data = input_data + \"/log-data/\"\n",
    "\n",
    "# Reading log data file\n",
    "log_data_df = spark.read.json(log_data)\n",
    "\n",
    "# Filtering by actions for song plays\n",
    "log_data_df = log_data_df.where('page=\"NextSong\"')\n",
    "\n",
    "# Extracting columns for users table\n",
    "users_table = log_data_df['userId', 'firstName', 'lastName', 'gender', 'level']\n",
    "\n",
    "# Removing duplicates from the users tables\n",
    "users_table = users_table.drop_duplicates(subset=['userId'])\n",
    "\n",
    "# Writing the users table to parquet files\n",
    "users_table.write.parquet(os.path.join(output_data, 'users/users.parquet'), mode='overwrite')\n",
    "\n",
    "#printing rows for the users table\n",
    "print(\"printing the users table\")\n",
    "\n",
    "#Displating 5 Rows from Artists Table\n",
    "users_table.show(5, True)\n",
    "\n",
    "# Creating timestamp column from original timestamp column with UDF lambda function\n",
    "get_timestamp = udf(lambda x: str(int(int(x)/1000)))\n",
    "\n",
    "print(\"get_timestamp\", get_timestamp)\n",
    "\n",
    "#print log data schema\n",
    "log_data_df.printSchema()"
   ]
  },
  {
   "cell_type": "markdown",
   "metadata": {},
   "source": [
    "#### Processing the Time Table and creatomg UDF lambda function"
   ]
  },
  {
   "cell_type": "code",
   "execution_count": 15,
   "metadata": {},
   "outputs": [
    {
     "name": "stdout",
     "output_type": "stream",
     "text": [
      "+-------------+----------+----+----+----+-----+----+-------+\n",
      "|ts           |date_time |hour|day |week|month|year|weekday|\n",
      "+-------------+----------+----+----+----+-----+----+-------+\n",
      "|1542241826796|1542241826|null|null|null|null |null|null   |\n",
      "|1542242481796|1542242481|null|null|null|null |null|null   |\n",
      "+-------------+----------+----+----+----+-----+----+-------+\n",
      "only showing top 2 rows\n",
      "\n"
     ]
    }
   ],
   "source": [
    "# create datetime column from original timestamp column\n",
    "get_datetime = udf(lambda x: str(datetime.fromtimestamp(int(x) / 1000.0)))\n",
    "log_data_df = log_data_df.withColumn(\"date_time\", get_datetime(log_data_df.ts))\n",
    "\n",
    "log_data_df = log_data_df.withColumn(\"date_time\", get_timestamp(log_data_df['ts']))\n",
    "\n",
    "log_data_df = log_data_df.withColumn(\"hour\", hour(log_data_df['date_time']))\n",
    "log_data_df = log_data_df.withColumn(\"day\", dayofmonth(log_data_df['date_time']))\n",
    "log_data_df = log_data_df.withColumn(\"week\", weekofyear(log_data_df['date_time']))\n",
    "log_data_df = log_data_df.withColumn(\"month\", month(log_data_df['date_time']))\n",
    "log_data_df = log_data_df.withColumn(\"year\", year(log_data_df['date_time']))\n",
    "log_data_df = log_data_df.withColumn(\"weekday\", dayofweek(log_data_df['date_time']))\n",
    "\n",
    "#Extracting the selected columns from the log data\n",
    "time_table = log_data_df['ts','date_time','hour','day','week','month','year','weekday']\n",
    "\n",
    "\n",
    "#printing\n",
    "\n",
    "time_table.show(2, False)"
   ]
  },
  {
   "cell_type": "code",
   "execution_count": 16,
   "metadata": {},
   "outputs": [
    {
     "name": "stdout",
     "output_type": "stream",
     "text": [
      "root\n",
      " |-- artist: string (nullable = true)\n",
      " |-- auth: string (nullable = true)\n",
      " |-- firstName: string (nullable = true)\n",
      " |-- gender: string (nullable = true)\n",
      " |-- itemInSession: long (nullable = true)\n",
      " |-- lastName: string (nullable = true)\n",
      " |-- length: double (nullable = true)\n",
      " |-- level: string (nullable = true)\n",
      " |-- location: string (nullable = true)\n",
      " |-- method: string (nullable = true)\n",
      " |-- page: string (nullable = true)\n",
      " |-- registration: double (nullable = true)\n",
      " |-- sessionId: long (nullable = true)\n",
      " |-- song: string (nullable = true)\n",
      " |-- status: long (nullable = true)\n",
      " |-- ts: long (nullable = true)\n",
      " |-- userAgent: string (nullable = true)\n",
      " |-- userId: string (nullable = true)\n",
      " |-- date_time: string (nullable = true)\n",
      " |-- hour: integer (nullable = true)\n",
      " |-- day: integer (nullable = true)\n",
      " |-- week: integer (nullable = true)\n",
      " |-- month: integer (nullable = true)\n",
      " |-- year: integer (nullable = true)\n",
      " |-- weekday: integer (nullable = true)\n",
      " |-- start_time: timestamp (nullable = true)\n",
      "\n",
      "+-----------------------+----+---+----+-----+----+-------+\n",
      "|start_time             |hour|day|week|month|year|weekday|\n",
      "+-----------------------+----+---+----+-----+----+-------+\n",
      "|2018-11-15 14:09:23.796|14  |15 |46  |11   |2018|5      |\n",
      "|2018-11-15 15:24:07.796|15  |15 |46  |11   |2018|5      |\n",
      "+-----------------------+----+---+----+-----+----+-------+\n",
      "only showing top 2 rows\n",
      "\n"
     ]
    }
   ],
   "source": [
    "\n",
    "get_timestamp = udf(lambda ts: datetime.fromtimestamp(ts / 1000), TimestampType()) \n",
    "#get_timestamp = udf(lambda x: datetime.utcfromtimestamp(int(x) / 1000), TimestampType()) --->working\n",
    "log_data_df = log_data_df.withColumn(\"start_time\", get_timestamp(log_data_df['ts']))\n",
    "\n",
    "# Adding the columns to the time table from the start_time column basically \n",
    "# parsing the hour, day, week, month, year etc.\n",
    "\n",
    "log_data_df = log_data_df.withColumn(\"hour\", hour(log_data_df['start_time']))\n",
    "log_data_df = log_data_df.withColumn(\"day\", dayofmonth(log_data_df['start_time']))\n",
    "log_data_df = log_data_df.withColumn(\"week\", weekofyear(log_data_df['start_time']))\n",
    "log_data_df = log_data_df.withColumn(\"month\", month(log_data_df['start_time']))\n",
    "log_data_df = log_data_df.withColumn(\"year\", year(log_data_df['start_time']))\n",
    "log_data_df = log_data_df.withColumn(\"weekday\", dayofweek(log_data_df['start_time']))\n",
    "log_data_df.printSchema()\n",
    "\n",
    "#Extracting the selected columns from the log data\n",
    "time_table = log_data_df['start_time','hour','day','week','month','year','weekday'].distinct()\n",
    "\n",
    "\n",
    "#printing\n",
    "\n",
    "time_table.show(2, False)\n",
    "\n",
    "# Writing time table to parquet files partitioned by year and month\n",
    "time_table.write.parquet(os.path.join(output_data, 'time/time.parquet'), partitionBy=['year', 'month'], mode='overwrite')\n"
   ]
  },
  {
   "cell_type": "markdown",
   "metadata": {},
   "source": [
    "#### SongsPlays Table Processing"
   ]
  },
  {
   "cell_type": "code",
   "execution_count": 17,
   "metadata": {},
   "outputs": [],
   "source": [
    "\n",
    "# Reading in song data to use for songplays table\n",
    "input_song_df = spark.read.json(input_data+'/song-data/song_data/A/*/*/*.json')"
   ]
  },
  {
   "cell_type": "code",
   "execution_count": 18,
   "metadata": {},
   "outputs": [
    {
     "name": "stdout",
     "output_type": "stream",
     "text": [
      "root\n",
      " |-- artist_id: string (nullable = true)\n",
      " |-- artist_latitude: double (nullable = true)\n",
      " |-- artist_location: string (nullable = true)\n",
      " |-- artist_longitude: double (nullable = true)\n",
      " |-- artist_name: string (nullable = true)\n",
      " |-- duration: double (nullable = true)\n",
      " |-- num_songs: long (nullable = true)\n",
      " |-- song_id: string (nullable = true)\n",
      " |-- title: string (nullable = true)\n",
      " |-- year: long (nullable = true)\n",
      "\n",
      "root\n",
      " |-- start_time: timestamp (nullable = true)\n",
      " |-- hour: integer (nullable = true)\n",
      " |-- day: integer (nullable = true)\n",
      " |-- week: integer (nullable = true)\n",
      " |-- month: integer (nullable = true)\n",
      " |-- year: integer (nullable = true)\n",
      " |-- weekday: integer (nullable = true)\n",
      "\n"
     ]
    }
   ],
   "source": [
    "input_song_df.printSchema()\n",
    "#log_data_df.printSchema()\n",
    "time_table.printSchema()"
   ]
  },
  {
   "cell_type": "code",
   "execution_count": 19,
   "metadata": {},
   "outputs": [
    {
     "name": "stdout",
     "output_type": "stream",
     "text": [
      "+------+--------------------+------------------+------------------+-----+---------+--------------------+--------------------+----+-----+\n",
      "|userId|          start_time|           song_id|         artist_id|level|sessionId|            location|           userAgent|year|month|\n",
      "+------+--------------------+------------------+------------------+-----+---------+--------------------+--------------------+----+-----+\n",
      "|    15|2018-11-21 21:56:...|SOZCTXZ12AB0182364|AR5KOSW1187FB35FF4| paid|      818|Chicago-Napervill...|\"Mozilla/5.0 (X11...|2018|   11|\n",
      "|    10|2018-11-14 05:06:...|SOGDBUF12A8C140FAA|AR558FS1187FB45658| free|      484|Washington-Arling...|\"Mozilla/5.0 (Mac...|2018|   11|\n",
      "|    24|2018-11-19 09:14:...|SOGDBUF12A8C140FAA|AR558FS1187FB45658| paid|      672|Lake Havasu City-...|\"Mozilla/5.0 (Win...|2018|   11|\n",
      "|    80|2018-11-27 22:35:...|SOGDBUF12A8C140FAA|AR558FS1187FB45658| paid|      992|Portland-South Po...|\"Mozilla/5.0 (Mac...|2018|   11|\n",
      "+------+--------------------+------------------+------------------+-----+---------+--------------------+--------------------+----+-----+\n",
      "\n"
     ]
    }
   ],
   "source": [
    "\n",
    "\n",
    "# Extracting columns from joined song and log datasets to create songplays table \n",
    "songplays_table_joined_log_table = log_data_df.join(input_song_df, \n",
    "                                   (log_data_df.song == input_song_df.title) , how='inner')\n",
    "\n",
    "#songplays_table_joined_log_table.printSchema()\n",
    "\n",
    "songplays_table_output = songplays_table_joined_log_table.alias(\"s\").join(time_table.alias(\"t\"), \\\n",
    "    (time_table.alias(\"t\").start_time == songplays_table_joined_log_table.alias(\"s\").start_time), \\\n",
    "                                                                   how='inner') \n",
    "\n",
    "\n",
    "\n",
    "\n",
    "#songplays_table.printSchema()\n",
    "songplays_table = songplays_table_output.select(\"s.userId\", \"t.start_time\",\"s.song_id\",\"s.artist_id\", \"s.level\",\"s.sessionId\",\"s.location\",\"s.userAgent\",\"t.year\",\"t.month\")\n",
    "\n",
    "                             \n",
    "\n",
    "# Selecting the distinct values Songplays table data frame\n",
    "#songplays_table = songplays_table_joined_time_table[\"userId\", \"start_time\", \"song_id\", \"artist_id\",\n",
    "#                                                    \"level\",\"songplay_id\", \"sessionId\", \"location\",\n",
    "#                                                    \"userAgent\",\"year\",\"month\"]\n",
    "\n",
    "\n",
    "\n",
    "\n",
    "\n",
    "\n",
    "\n",
    "# Extracting the columns from the Song\n",
    "#input_song_df = input_song_df['datetime', 'userId', 'level', 'song', 'artist', 'sessionId', 'location', 'userAgent'].distinct()\n",
    "\n",
    "# Writing songplays table to parquet files partitioned by year and month\n",
    "#songplays_table = song_log_joined_table.distinct() \\\n",
    "#.select(\"userId\", \"timestamp\", \"song_id\", \"artist_id\", \"level\", \"sessionId\", \"location\", \"userAgent\" ) \\\n",
    "#.withColumn(\"songplay_id\", F.row_number().over( Window.partitionBy('timestamp').orderBy(\"timestamp\"))) \\\n",
    "#.withColumnRenamed(\"userId\",\"user_id\")\\\n",
    "#.withColumnRenamed(\"timestamp\",\"start_time\")  \\\n",
    "#.withColumnRenamed(\"sessionId\",\"session_id\")  \\\n",
    "#.withColumnRenamed(\"userAgent\", \"user_agent\") \\\n",
    "\n",
    "# Writing songplays table to parquet files partitioned by year and month\n",
    "#songplays_table.write.parquet(output_data + 'songplays/songplays.parquet',partitionBy=[\"t.year\",\"t.month\"])\n",
    "\n",
    "\n",
    "songplays_table.show(5)\n",
    "\n",
    "songplays_table.write.parquet(os.path.join(output_data, 'songplays/songplays.parquet'), partitionBy=[\"year\", \"month\"], mode='overwrite')"
   ]
  }
 ],
 "metadata": {
  "kernelspec": {
   "display_name": "Python 3",
   "language": "python",
   "name": "python3"
  },
  "language_info": {
   "codemirror_mode": {
    "name": "ipython",
    "version": 3
   },
   "file_extension": ".py",
   "mimetype": "text/x-python",
   "name": "python",
   "nbconvert_exporter": "python",
   "pygments_lexer": "ipython3",
   "version": "3.6.3"
  }
 },
 "nbformat": 4,
 "nbformat_minor": 2
}
