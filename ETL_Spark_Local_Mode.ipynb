{
 "cells": [
  {
   "cell_type": "markdown",
   "metadata": {},
   "source": [
    "#### Importing the Python Libraries"
   ]
  },
  {
   "cell_type": "code",
   "execution_count": 1,
   "metadata": {},
   "outputs": [],
   "source": [
    "import configparser\n",
    "import os\n",
    "import glob\n",
    "import zipfile\n",
    "import pyspark.sql.functions as F\n",
    "\n",
    "from datetime import datetime\n",
    "from pyspark.sql import SparkSession\n",
    "from pyspark.sql.window import Window"
   ]
  },
  {
   "cell_type": "markdown",
   "metadata": {},
   "source": [
    "#### Defining the function for creating Spark Session"
   ]
  },
  {
   "cell_type": "code",
   "execution_count": 2,
   "metadata": {},
   "outputs": [],
   "source": [
    "def create_spark_session():\n",
    "    spark = SparkSession \\\n",
    "        .builder \\\n",
    "        .config(\"spark.jars.packages\", \"org.apache.hadoop:hadoop-aws:2.7.0\") \\\n",
    "        .getOrCreate()\n",
    "    return spark\n",
    "\n",
    "spark = create_spark_session()"
   ]
  },
  {
   "cell_type": "markdown",
   "metadata": {},
   "source": [
    "#### Printing the current working directory so that data files can be extracted there"
   ]
  },
  {
   "cell_type": "code",
   "execution_count": 3,
   "metadata": {},
   "outputs": [
    {
     "name": "stdout",
     "output_type": "stream",
     "text": [
      "Current working directory: /workspace/home\n"
     ]
    }
   ],
   "source": [
    "cwd = os.getcwd()\n",
    "print(\"Current working directory:\", cwd)"
   ]
  },
  {
   "cell_type": "markdown",
   "metadata": {},
   "source": [
    "#### Defining the variables for the log data and song data zip file"
   ]
  },
  {
   "cell_type": "code",
   "execution_count": 4,
   "metadata": {},
   "outputs": [
    {
     "name": "stdout",
     "output_type": "stream",
     "text": [
      "Log Data------> ['/workspace/home/data/log-data.zip']\n",
      "Song Data-----> ['/workspace/home/data/song-data.zip']\n"
     ]
    }
   ],
   "source": [
    "# Defining the variables files1 and files2 for log data and song data respectively\n",
    "files1 = glob.glob('/workspace/home/data/log-data.zip')\n",
    "files2 = glob.glob('/workspace/home/data/song-data.zip')\n",
    "\n",
    "#Printing full directory path for log data\n",
    "print(\"Log Data------>\",files1)\n",
    "\n",
    "#Printing full directory path for song data\n",
    "print(\"Song Data----->\",files2)"
   ]
  },
  {
   "cell_type": "markdown",
   "metadata": {},
   "source": [
    "#### Extracting the Log Data Zip file"
   ]
  },
  {
   "cell_type": "code",
   "execution_count": 5,
   "metadata": {},
   "outputs": [
    {
     "name": "stdout",
     "output_type": "stream",
     "text": [
      "Unzipping Log Data Zip file: /workspace/home/data/log-data.zip\n"
     ]
    }
   ],
   "source": [
    "# Extracting the Log Data Zip file\n",
    "for file in files1:\n",
    "    print('Unzipping Log Data Zip file:',file)\n",
    "\n",
    "    with zipfile.ZipFile(file, 'r') as zip_ref:\n",
    "        zip_ref.extractall('/workspace/home/data/extracted_data_folder/log-data/')"
   ]
  },
  {
   "cell_type": "markdown",
   "metadata": {},
   "source": [
    "#### Extracting the Song Data Zip file"
   ]
  },
  {
   "cell_type": "code",
   "execution_count": 6,
   "metadata": {},
   "outputs": [
    {
     "name": "stdout",
     "output_type": "stream",
     "text": [
      "Unzipping Song Data Zip file: /workspace/home/data/song-data.zip\n"
     ]
    }
   ],
   "source": [
    "for file in files2:\n",
    "    print('Unzipping Song Data Zip file:',file)\n",
    "\n",
    "    with zipfile.ZipFile(file, 'r') as zip_ref:\n",
    "        zip_ref.extractall('/workspace/home/data/extracted_data_folder/song-data/')"
   ]
  },
  {
   "cell_type": "markdown",
   "metadata": {},
   "source": [
    "#### Defining the variables for the input & output data directory"
   ]
  },
  {
   "cell_type": "code",
   "execution_count": 7,
   "metadata": {},
   "outputs": [],
   "source": [
    "input_data = \"data/extracted_data_folder/\"\n",
    "output_data = \"output/\""
   ]
  },
  {
   "cell_type": "markdown",
   "metadata": {},
   "source": [
    "#### Setting the song data variable"
   ]
  },
  {
   "cell_type": "code",
   "execution_count": 8,
   "metadata": {},
   "outputs": [],
   "source": [
    "# With only partial dataset as suggested in the Knowledge support ticket\n",
    "song_data = input_data + \"/song-data/song_data/A/A/*/\""
   ]
  },
  {
   "cell_type": "markdown",
   "metadata": {},
   "source": [
    "#### Reading the JSON file into the Spark Data Frame"
   ]
  },
  {
   "cell_type": "code",
   "execution_count": 9,
   "metadata": {},
   "outputs": [
    {
     "name": "stdout",
     "output_type": "stream",
     "text": [
      "Total count of records in Song Data Frame-----> 36\n"
     ]
    }
   ],
   "source": [
    "# Reading the JSON file into the Data Frame\n",
    "song_data_df = spark.read.json(song_data)\n",
    "\n",
    "# Total count of records in Song Data Frame\n",
    "print(\"Total count of records in Song Data Frame----->\",song_data_df.count())"
   ]
  },
  {
   "cell_type": "markdown",
   "metadata": {},
   "source": [
    "#### Creating Songs Data Table with smallert set of the columns from above data frame"
   ]
  },
  {
   "cell_type": "code",
   "execution_count": 10,
   "metadata": {},
   "outputs": [],
   "source": [
    "\n",
    "songs_data_table = song_data_df.select([\"song_id\", \"title\", \"artist_id\", \"year\", \"duration\"]).distinct()\n"
   ]
  },
  {
   "cell_type": "markdown",
   "metadata": {},
   "source": [
    "#### Displaying the sample records from the Songs Data Table"
   ]
  },
  {
   "cell_type": "code",
   "execution_count": 11,
   "metadata": {},
   "outputs": [
    {
     "name": "stdout",
     "output_type": "stream",
     "text": [
      "+------------------+--------------------+------------------+----+---------+\n",
      "|           song_id|               title|         artist_id|year| duration|\n",
      "+------------------+--------------------+------------------+----+---------+\n",
      "|SOGOSOV12AF72A285E|   ¿Dónde va Chichi?|ARGUVEV1187B98BA17|1997|313.12934|\n",
      "|SOBBUGU12A8C13E95D|Setting Fire to S...|ARMAC4T1187FB3FA4C|2004|207.77751|\n",
      "|SOIAZJW12AB01853F1|          Pink World|AR8ZCNI1187B9A069B|1984|269.81832|\n",
      "|SONYPOM12A8C13B2D7|I Think My Wife I...|ARDNS031187B9924F0|2005|186.48771|\n",
      "|SOYMRWW12A6D4FAB14|The Moon And I (O...|ARKFYS91187B98E58F|   0| 267.7024|\n",
      "|SOWTBJW12AC468AC6E|Broken-Down Merry...|ARQGYP71187FB44566|   0|151.84934|\n",
      "|SOQHXMF12AB0182363|     Young Boy Blues|ARGSJW91187B9B1D6B|   0|218.77506|\n",
      "|SOZVMJI12AB01808AF|     Synthetic Dream|ARNPAGP1241B9C7FD4|   0|165.69424|\n",
      "|SOHKNRJ12A6701D1F8|        Drop of Rain|AR10USD1187B99F3F1|   0|189.57016|\n",
      "|SOMJBYD12A6D4F8557|Keepin It Real (S...|ARD0S291187B9B7BF5|   0|114.78159|\n",
      "|SOLLHMX12AB01846DC|   The Emperor Falls|AR1Y2PT1187FB5B9CE|   0|484.62322|\n",
      "|SOBZBAZ12A6D4F8742|      Spanish Grease|AROUOZZ1187B9ABE51|1997|168.25424|\n",
      "|SOHUOAP12A8AE488E9|            Floating|ARD842G1187B997376|1987|491.12771|\n",
      "|SOVYKGO12AB0187199|Crazy Mixed Up World|ARH4Z031187B9A71F2|1961|156.39465|\n",
      "|SOMZWCG12A8C13C480|    I Didn't Mean To|ARD7TVE1187B99BFB1|   0|218.93179|\n",
      "+------------------+--------------------+------------------+----+---------+\n",
      "only showing top 15 rows\n",
      "\n"
     ]
    }
   ],
   "source": [
    "songs_data_table.show(15, True)"
   ]
  },
  {
   "cell_type": "markdown",
   "metadata": {},
   "source": [
    "#### Creating the Spark Data Frame for the Log Data"
   ]
  },
  {
   "cell_type": "code",
   "execution_count": 12,
   "metadata": {},
   "outputs": [
    {
     "name": "stdout",
     "output_type": "stream",
     "text": [
      "+-----------+---------+---------+------+-------------+--------+---------+-----+--------------------+------+--------+-----------------+---------+---------------+------+-------------+--------------------+------+\n",
      "|     artist|     auth|firstName|gender|itemInSession|lastName|   length|level|            location|method|    page|     registration|sessionId|           song|status|           ts|           userAgent|userId|\n",
      "+-----------+---------+---------+------+-------------+--------+---------+-----+--------------------+------+--------+-----------------+---------+---------------+------+-------------+--------------------+------+\n",
      "|   Harmonia|Logged In|     Ryan|     M|            0|   Smith|655.77751| free|San Jose-Sunnyval...|   PUT|NextSong|1.541016707796E12|      583|  Sehr kosmisch|   200|1542241826796|\"Mozilla/5.0 (X11...|    26|\n",
      "|The Prodigy|Logged In|     Ryan|     M|            1|   Smith|260.07465| free|San Jose-Sunnyval...|   PUT|NextSong|1.541016707796E12|      583|The Big Gundown|   200|1542242481796|\"Mozilla/5.0 (X11...|    26|\n",
      "|      Train|Logged In|     Ryan|     M|            2|   Smith|205.45261| free|San Jose-Sunnyval...|   PUT|NextSong|1.541016707796E12|      583|       Marry Me|   200|1542242741796|\"Mozilla/5.0 (X11...|    26|\n",
      "|       null|Logged In|    Wyatt|     M|            0|   Scott|     null| free|Eureka-Arcata-For...|   GET|    Home|1.540872073796E12|      563|           null|   200|1542247071796|Mozilla/5.0 (Wind...|     9|\n",
      "|       null|Logged In|   Austin|     M|            0| Rosales|     null| free|New York-Newark-J...|   GET|    Home|1.541059521796E12|      521|           null|   200|1542252577796|Mozilla/5.0 (Wind...|    12|\n",
      "+-----------+---------+---------+------+-------------+--------+---------+-----+--------------------+------+--------+-----------------+---------+---------------+------+-------------+--------------------+------+\n",
      "only showing top 5 rows\n",
      "\n"
     ]
    }
   ],
   "source": [
    "log_data = input_data + \"/log-data/\"\n",
    "log_data_df = spark.read.json(log_data)\n",
    "log_data_df.show(5, True)"
   ]
  },
  {
   "cell_type": "code",
   "execution_count": 13,
   "metadata": {},
   "outputs": [
    {
     "name": "stdout",
     "output_type": "stream",
     "text": [
      "+------------------+--------------------+-----------------+---------------+----------------+\n",
      "|         artist_id|         artist_name|  artist_location|artist_latitude|artist_longitude|\n",
      "+------------------+--------------------+-----------------+---------------+----------------+\n",
      "|AR0RCMP1187FB3F427|    Billie Jo Spears|     Beaumont, TX|       30.08615|       -94.10158|\n",
      "|ARI3BMM1187FB4255E|        Alice Stuart|       Washington|        38.8991|         -77.029|\n",
      "|ARMAC4T1187FB3FA4C|The Dillinger Esc...|Morris Plains, NJ|       40.82624|       -74.47995|\n",
      "|ARNTLGG11E2835DDB9|                 Clp|                 |           null|            null|\n",
      "|ARKRRTF1187B9984DA|    Sonora Santanera|                 |           null|            null|\n",
      "+------------------+--------------------+-----------------+---------------+----------------+\n",
      "only showing top 5 rows\n",
      "\n"
     ]
    }
   ],
   "source": [
    "# Getting filepath to song data file\n",
    "song_data = input_data + \"/song-data/song_data/A/A/*/\"\n",
    "\n",
    "# Reading song data file\n",
    "df = spark.read.json(song_data)\n",
    "\n",
    "# Extracting columns to create songs table with distinct\n",
    "songs_table = df.select([\"song_id\", \"title\", \"artist_id\", \"year\", \"duration\"]).distinct()\n",
    "\n",
    "# Writing songs table to parquet files partitioned by year and artist\n",
    "songs_table.write.parquet(os.path.join(output_data, 'songs/songs.parquet'), partitionBy=['year', 'artist_id'], mode='overwrite')\n",
    "\n",
    "# Extracting columns to create artists table\n",
    "artists_table =  artists_table = df['artist_id', 'artist_name', 'artist_location', 'artist_latitude', 'artist_longitude']\n",
    "\n",
    "# Dropping duplicates from the artists table\n",
    "artists_table = artists_table.drop_duplicates(subset=['artist_id'])\n",
    "\n",
    "# Writing artists table to parquet files\n",
    "artists_table.write.parquet(os.path.join(output_data, 'artists/artists.parquet'), mode='overwrite')\n",
    "\n",
    "#Displating 5 Rows from Artists Table\n",
    "artists_table.show(5, True)"
   ]
  },
  {
   "cell_type": "code",
   "execution_count": 14,
   "metadata": {},
   "outputs": [
    {
     "ename": "NameError",
     "evalue": "name 'udf' is not defined",
     "output_type": "error",
     "traceback": [
      "\u001b[0;31m---------------------------------------------------------------------------\u001b[0m",
      "\u001b[0;31mNameError\u001b[0m                                 Traceback (most recent call last)",
      "\u001b[0;32m<ipython-input-14-3f63c314cd4f>\u001b[0m in \u001b[0;36m<module>\u001b[0;34m()\u001b[0m\n\u001b[1;32m     20\u001b[0m \u001b[0;31m# Creating timestamp column from original timestamp column with UDF lambda function\u001b[0m\u001b[0;34m\u001b[0m\u001b[0;34m\u001b[0m\u001b[0m\n\u001b[1;32m     21\u001b[0m \u001b[0;31m#get_timestamp = udf(lambda x: datetime.fromtimestamp(x/1000).strftime('%Y-%m-%d %H:%M:%S'))\u001b[0m\u001b[0;34m\u001b[0m\u001b[0;34m\u001b[0m\u001b[0m\n\u001b[0;32m---> 22\u001b[0;31m \u001b[0mget_timestamp\u001b[0m \u001b[0;34m=\u001b[0m \u001b[0mudf\u001b[0m\u001b[0;34m(\u001b[0m\u001b[0;32mlambda\u001b[0m \u001b[0mx\u001b[0m\u001b[0;34m:\u001b[0m \u001b[0mdatetime\u001b[0m\u001b[0;34m.\u001b[0m\u001b[0mfromtimestamp\u001b[0m\u001b[0;34m(\u001b[0m\u001b[0mx\u001b[0m\u001b[0;34m/\u001b[0m\u001b[0;36m1000\u001b[0m\u001b[0;34m)\u001b[0m\u001b[0;34m)\u001b[0m\u001b[0;34m\u001b[0m\u001b[0m\n\u001b[0m\u001b[1;32m     23\u001b[0m \u001b[0;34m\u001b[0m\u001b[0m\n\u001b[1;32m     24\u001b[0m \u001b[0;31m# Adding the timestamp column into the get timestamp data frame\u001b[0m\u001b[0;34m\u001b[0m\u001b[0;34m\u001b[0m\u001b[0m\n",
      "\u001b[0;31mNameError\u001b[0m: name 'udf' is not defined"
     ]
    }
   ],
   "source": [
    "# Getting filepath to log data file\n",
    "log_data = input_data + \"/log-data/\"\n",
    "\n",
    "# Reading log data file\n",
    "log_data_df = spark.read.json(log_data)\n",
    "\n",
    "# Filtering by actions for song plays\n",
    "log_data_df = log_data_df.where('page=\"NextSong\"')\n",
    "\n",
    "# Extracting columns for users table\n",
    "users_table = log_data_df['userId', 'firstName', 'lastName', 'gender', 'level']\n",
    "\n",
    "# Removing duplicates from the users tables\n",
    "#users_table = users_table.drop_duplicates(subset='userId')\n",
    "users_table = users_table.drop_duplicates(subset=['userId'])\n",
    "\n",
    "# Writing the users table to parquet files\n",
    "users_table.write.parquet(os.path.join(output_data, 'users/users.parquet'), mode='overwrite')\n",
    "\n",
    "# Creating timestamp column from original timestamp column with UDF lambda function\n",
    "\n",
    "get_timestamp = udf(lambda x: datetime.fromtimestamp(x/1000))\n",
    "\n",
    "# Adding the timestamp column into the get timestamp data frame\n",
    "log_data_df = log_data_df.withColumn('timestamp', get_timestamp('ts'))\n",
    "\n",
    "# create datetime column from original timestamp column\n",
    "#get_datetime = udf(lambda x: datetime.fromtimestamp(x/1000).strftime('%Y-%m-%d'))\n",
    "\n",
    "# Adding the datetime column into the get timestamp data frame\n",
    "log_data_df = log_data_df.withColumn('datetime', get_datetime('ts')) \n",
    "\n",
    "# Extracting columns to create time table\n",
    "time_table = log_data_df.select('start_time')\n",
    "\n",
    "# Adding the columns to the time table from the start_time column basically parsing the hour, day, week, month, year etc.\n",
    "time_table = time_table.withColumn('hour', hour('start_time'))\n",
    "time_table = time_table.withColumn('day', dayofmonth('start_time'))\n",
    "time_table = time_table.withColumn('week', weekofyear('start_time'))\n",
    "time_table = time_table.withColumn('month', month('start_time'))\n",
    "time_table = time_table.withColumn('year', year('start_time'))\n",
    "time_table = time_table.withColumn('weekday', dayofweek('start_time'))\n",
    "\n",
    "# Writing time table to parquet files partitioned by year and month\n",
    "time_table.write.parquet(os.path.join(output_data, 'time/time.parquet'), partitionBy=['year', 'month'], mode='overwrite')\n",
    "\n",
    "# Reading in song data to use for songplays table\n",
    "song_df_1 = spark.read.json(input_data+'/song-data/song_data/A/A/*/*.json')\n",
    "\n",
    "# Extracting the columns from the Song\n",
    "#song_df_1 = song_df_1['datetime', 'userId', 'level', 'song', 'artist', 'sessionId', 'location', 'userAgent'].distinct()\n",
    "\n",
    "# Extracting columns from joined song and log datasets to create songplays table \n",
    "songplays_table = log_data_df.join(song_df_1, (log_data_df.song == song_df_1.title) & \n",
    "  (log_data_df.artist == song_df_1.artist_name) & \n",
    "  (log_data_df.length ==  song_df_1.duration), how='inner')\n",
    "\n",
    "# Writing songplays table to parquet files partitioned by year and month\n",
    "songplays_table = song_log_joined_table.distinct() \\\n",
    ".select(\"userId\", \"timestamp\", \"song_id\", \"artist_id\", \"level\", \"sessionId\", \"location\", \"userAgent\" ) \\\n",
    ".withColumn(\"songplay_id\", F.row_number().over( Window.partitionBy('timestamp').orderBy(\"timestamp\"))) \\\n",
    ".withColumnRenamed(\"userId\",\"user_id\")\\\n",
    ".withColumnRenamed(\"timestamp\",\"start_time\")  \\\n",
    ".withColumnRenamed(\"sessionId\",\"session_id\")  \\\n",
    ".withColumnRenamed(\"userAgent\", \"user_agent\") \\\n",
    "\n",
    "# Writing songplays table to parquet files partitioned by year and month\n",
    "songplays_table.write.parquet(output_data + 'songplays/' + 'songplays.parquet',partitionBy=['start_time', 'user_id'])\n",
    "\n",
    "songplays_table.show(5)\n"
   ]
  },
  {
   "cell_type": "code",
   "execution_count": null,
   "metadata": {},
   "outputs": [],
   "source": []
  }
 ],
 "metadata": {
  "kernelspec": {
   "display_name": "Python 3",
   "language": "python",
   "name": "python3"
  },
  "language_info": {
   "codemirror_mode": {
    "name": "ipython",
    "version": 3
   },
   "file_extension": ".py",
   "mimetype": "text/x-python",
   "name": "python",
   "nbconvert_exporter": "python",
   "pygments_lexer": "ipython3",
   "version": "3.6.3"
  }
 },
 "nbformat": 4,
 "nbformat_minor": 2
}
