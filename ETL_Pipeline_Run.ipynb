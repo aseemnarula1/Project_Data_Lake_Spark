{
 "cells": [
  {
   "cell_type": "code",
   "execution_count": 8,
   "metadata": {},
   "outputs": [
    {
     "data": {
      "text/plain": [
       "['/workspace/home/data/song-data.zip']"
      ]
     },
     "execution_count": 8,
     "metadata": {},
     "output_type": "execute_result"
    }
   ],
   "source": [
    "import glob\n",
    "import zipfile\n",
    "#files = glob.glob('/workspace/home/data/log-data.zip')\n",
    "files = glob.glob('/workspace/home/data/song-data.zip')\n",
    "files"
   ]
  },
  {
   "cell_type": "code",
   "execution_count": 4,
   "metadata": {},
   "outputs": [
    {
     "name": "stdout",
     "output_type": "stream",
     "text": [
      "Archive:  /workspace/home/data/log-data.zip\n",
      "  inflating: 2018-11-01-events.json  \n",
      "  inflating: 2018-11-02-events.json  \n",
      "  inflating: 2018-11-03-events.json  \n",
      "  inflating: 2018-11-04-events.json  \n",
      "  inflating: 2018-11-05-events.json  \n",
      "  inflating: 2018-11-06-events.json  \n",
      "  inflating: 2018-11-07-events.json  \n",
      "  inflating: 2018-11-08-events.json  \n",
      "  inflating: 2018-11-09-events.json  \n",
      "  inflating: 2018-11-10-events.json  \n",
      "  inflating: 2018-11-11-events.json  \n",
      "  inflating: 2018-11-12-events.json  \n",
      "  inflating: 2018-11-13-events.json  \n",
      "  inflating: 2018-11-14-events.json  \n",
      "  inflating: 2018-11-15-events.json  \n",
      "  inflating: 2018-11-16-events.json  \n",
      "  inflating: 2018-11-17-events.json  \n",
      "  inflating: 2018-11-18-events.json  \n",
      "  inflating: 2018-11-19-events.json  \n",
      "  inflating: 2018-11-20-events.json  \n",
      "  inflating: 2018-11-21-events.json  \n",
      "  inflating: 2018-11-22-events.json  \n",
      "  inflating: 2018-11-23-events.json  \n",
      "  inflating: 2018-11-24-events.json  \n",
      "  inflating: 2018-11-25-events.json  \n",
      "  inflating: 2018-11-26-events.json  \n",
      "  inflating: 2018-11-27-events.json  \n",
      "  inflating: 2018-11-28-events.json  \n",
      "  inflating: 2018-11-29-events.json  \n",
      "  inflating: 2018-11-30-events.json  \n"
     ]
    }
   ],
   "source": [
    "!unzip /workspace/home/data/log-data.zip "
   ]
  },
  {
   "cell_type": "code",
   "execution_count": 9,
   "metadata": {},
   "outputs": [
    {
     "name": "stdout",
     "output_type": "stream",
     "text": [
      "Unzipping: /workspace/home/data/song-data.zip\n"
     ]
    }
   ],
   "source": [
    "for file in files:\n",
    "    print('Unzipping:',file)\n",
    "\n",
    "    with zipfile.ZipFile(file, 'r') as zip_ref:\n",
    "        zip_ref.extractall('/workspace/home/data/extracted_data_folder/song-data/')"
   ]
  },
  {
   "cell_type": "code",
   "execution_count": 50,
   "metadata": {},
   "outputs": [],
   "source": [
    "import zipfile\n",
    "with zipfile.ZipFile('/workspace/home/data/log-data.zip','r') as zip_ref:\n",
    "    zip_ref.extractall('/workspace/home/data/extracted_data_folder')"
   ]
  },
  {
   "cell_type": "code",
   "execution_count": 51,
   "metadata": {},
   "outputs": [
    {
     "ename": "FileNotFoundError",
     "evalue": "[Errno 2] No such file or directory: '/data/log-data.zip'",
     "output_type": "error",
     "traceback": [
      "\u001b[0;31m---------------------------------------------------------------------------\u001b[0m",
      "\u001b[0;31mFileNotFoundError\u001b[0m                         Traceback (most recent call last)",
      "\u001b[0;32m<ipython-input-51-f7ac0bf51f04>\u001b[0m in \u001b[0;36m<module>\u001b[0;34m()\u001b[0m\n\u001b[1;32m      3\u001b[0m \u001b[0;34m\u001b[0m\u001b[0m\n\u001b[1;32m      4\u001b[0m \u001b[0;31m#First open the file in read mode\u001b[0m\u001b[0;34m\u001b[0m\u001b[0;34m\u001b[0m\u001b[0m\n\u001b[0;32m----> 5\u001b[0;31m \u001b[0munzip_files\u001b[0m \u001b[0;34m=\u001b[0m \u001b[0mzipfile\u001b[0m\u001b[0;34m.\u001b[0m\u001b[0mZipFile\u001b[0m\u001b[0;34m(\u001b[0m\u001b[0;34m'/data/log-data.zip'\u001b[0m\u001b[0;34m,\u001b[0m\u001b[0;34m'r'\u001b[0m\u001b[0;34m)\u001b[0m\u001b[0;34m\u001b[0m\u001b[0m\n\u001b[0m\u001b[1;32m      6\u001b[0m \u001b[0;34m\u001b[0m\u001b[0m\n\u001b[1;32m      7\u001b[0m \u001b[0;31m#Now we will unzip and put those files in a directory called extracted_dir\u001b[0m\u001b[0;34m\u001b[0m\u001b[0;34m\u001b[0m\u001b[0m\n",
      "\u001b[0;32m/opt/conda/lib/python3.6/zipfile.py\u001b[0m in \u001b[0;36m__init__\u001b[0;34m(self, file, mode, compression, allowZip64)\u001b[0m\n\u001b[1;32m   1088\u001b[0m             \u001b[0;32mwhile\u001b[0m \u001b[0;32mTrue\u001b[0m\u001b[0;34m:\u001b[0m\u001b[0;34m\u001b[0m\u001b[0m\n\u001b[1;32m   1089\u001b[0m                 \u001b[0;32mtry\u001b[0m\u001b[0;34m:\u001b[0m\u001b[0;34m\u001b[0m\u001b[0m\n\u001b[0;32m-> 1090\u001b[0;31m                     \u001b[0mself\u001b[0m\u001b[0;34m.\u001b[0m\u001b[0mfp\u001b[0m \u001b[0;34m=\u001b[0m \u001b[0mio\u001b[0m\u001b[0;34m.\u001b[0m\u001b[0mopen\u001b[0m\u001b[0;34m(\u001b[0m\u001b[0mfile\u001b[0m\u001b[0;34m,\u001b[0m \u001b[0mfilemode\u001b[0m\u001b[0;34m)\u001b[0m\u001b[0;34m\u001b[0m\u001b[0m\n\u001b[0m\u001b[1;32m   1091\u001b[0m                 \u001b[0;32mexcept\u001b[0m \u001b[0mOSError\u001b[0m\u001b[0;34m:\u001b[0m\u001b[0;34m\u001b[0m\u001b[0m\n\u001b[1;32m   1092\u001b[0m                     \u001b[0;32mif\u001b[0m \u001b[0mfilemode\u001b[0m \u001b[0;32min\u001b[0m \u001b[0mmodeDict\u001b[0m\u001b[0;34m:\u001b[0m\u001b[0;34m\u001b[0m\u001b[0m\n",
      "\u001b[0;31mFileNotFoundError\u001b[0m: [Errno 2] No such file or directory: '/data/log-data.zip'"
     ]
    }
   ],
   "source": [
    "#import required modules\n",
    "import zipfile\n",
    "\n",
    "#First open the file in read mode\n",
    "unzip_files = zipfile.ZipFile('/data/log-data.zip','r')\n",
    "\n",
    "#Now we will unzip and put those files in a directory called extracted_dir\n",
    "unzip_files.extractall('/workspace/homedata/extracted_data_folder')"
   ]
  },
  {
   "cell_type": "code",
   "execution_count": 65,
   "metadata": {},
   "outputs": [
    {
     "name": "stdout",
     "output_type": "stream",
     "text": [
      "Unzipped /workspace/home/data/log-data.zip to /workspace/home/data/extracted_data_folder\n"
     ]
    }
   ],
   "source": [
    "import zipfile\n",
    "\n",
    "# Replace 'your_file.zip' with the actual name of your .zip file.\n",
    "zip_file_name = '/workspace/home/data/log-data.zip'\n",
    "\n",
    "# Replace 'output_directory' with the directory where you want to extract the contents.\n",
    "output_directory = '/workspace/home/data/extracted_data_folder'\n",
    "\n",
    "# Open the .zip file for reading.\n",
    "with zipfile.ZipFile(zip_file_name, 'r') as zip_ref:\n",
    "    # Extract all the contents to the specified directory.\n",
    "    zip_ref.extractall(output_directory)\n",
    "\n",
    "print(f'Unzipped {zip_file_name} to {output_directory}')\n"
   ]
  },
  {
   "cell_type": "code",
   "execution_count": 1,
   "metadata": {},
   "outputs": [
    {
     "name": "stdout",
     "output_type": "stream",
     "text": [
      "  File \"etl.py\", line 106\r\n",
      "    songplays_table_output = songplays_table_joined_log_table.alias(\"s\").join(time_table.alias(\"t\"), \\\r\n",
      "                         ^\r\n",
      "SyntaxError: invalid syntax\r\n"
     ]
    }
   ],
   "source": [
    "! python etl.py"
   ]
  },
  {
   "cell_type": "code",
   "execution_count": null,
   "metadata": {},
   "outputs": [],
   "source": []
  }
 ],
 "metadata": {
  "kernelspec": {
   "display_name": "Python 3",
   "language": "python",
   "name": "python3"
  },
  "language_info": {
   "codemirror_mode": {
    "name": "ipython",
    "version": 3
   },
   "file_extension": ".py",
   "mimetype": "text/x-python",
   "name": "python",
   "nbconvert_exporter": "python",
   "pygments_lexer": "ipython3",
   "version": "3.6.3"
  }
 },
 "nbformat": 4,
 "nbformat_minor": 2
}
